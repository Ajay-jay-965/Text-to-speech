{
 "cells": [
  {
   "cell_type": "code",
   "execution_count": null,
   "metadata": {},
   "outputs": [],
   "source": [
    "import tkinter as tk\n",
    "from gtts import gTTS\n",
    "from playsound import playsound\n",
    "\n",
    "win = tk.Tk()\n",
    "win.title(\"text to speech\")\n",
    "win.geometry(\"200x90\")\n",
    "\n",
    "\n",
    "def text_to_speech():\n",
    "    text = entry.get()\n",
    "    speech1 = gTTS(text=text, lang=\"en\")\n",
    "    speech1.save(r'C:\\Users\\DELL\\Desktop\\AJAY\\speech1.mp3')\n",
    "    playsound(r'C:\\Users\\DELL\\Desktop\\AJAY\\speech1.mp3')\n",
    "\n",
    "\n",
    "label = tk.Label(win, text=\"Enter Here :\")\n",
    "label.grid(row=0,column=0)\n",
    "\n",
    "entry = tk.Entry(win)\n",
    "entry.grid(row=1,column=0)\n",
    "button = tk.Button(win, text=\"Go\", command=text_to_speech)\n",
    "button.grid(row=1, column=1)\n",
    "\n",
    "win.mainloop()\n"
   ]
  },
  {
   "cell_type": "code",
   "execution_count": null,
   "metadata": {},
   "outputs": [],
   "source": []
  }
 ],
 "metadata": {
  "kernelspec": {
   "display_name": "Python 3",
   "language": "python",
   "name": "python3"
  },
  "language_info": {
   "codemirror_mode": {
    "name": "ipython",
    "version": 3
   },
   "file_extension": ".py",
   "mimetype": "text/x-python",
   "name": "python",
   "nbconvert_exporter": "python",
   "pygments_lexer": "ipython3",
   "version": "3.7.1"
  }
 },
 "nbformat": 4,
 "nbformat_minor": 2
}
